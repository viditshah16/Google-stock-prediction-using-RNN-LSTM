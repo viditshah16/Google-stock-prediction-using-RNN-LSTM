{
  "nbformat": 4,
  "nbformat_minor": 0,
  "metadata": {
    "colab": {
      "name": "google-stock-prediction.ipynb",
      "provenance": [],
      "collapsed_sections": []
    },
    "kernelspec": {
      "name": "python3",
      "display_name": "Python 3"
    },
    "language_info": {
      "name": "python"
    }
  },
  "cells": [
    {
      "cell_type": "markdown",
      "source": [
        "importing libraries"
      ],
      "metadata": {
        "id": "uK7YP1xf8xdy"
      }
    },
    {
      "cell_type": "code",
      "execution_count": 1,
      "metadata": {
        "id": "D5v2LpNjzyoP"
      },
      "outputs": [],
      "source": [
        "import numpy as np\n",
        "import pandas as pd\n",
        "import tensorflow as tf\n",
        "import matplotlib.pyplot as plt"
      ]
    },
    {
      "cell_type": "markdown",
      "source": [
        "importint dataset and dividing into training and testing "
      ],
      "metadata": {
        "id": "MvTMfEYH878w"
      }
    },
    {
      "cell_type": "code",
      "source": [
        "data = pd.read_csv(\"Google_Stock_Price_Train.csv\")\n",
        "training_set = data[data['Date']<'2019-01-01'].copy()\n",
        "training_set = training_set.drop(['Date', 'Adj Close', 'High', 'Low', 'Close', 'Volume'], axis = 1)\n",
        "data_test = data[data['Date']>='2019-01-01'].copy()\n",
        "data_test = data_test.drop(['Date', 'Adj Close', 'High', 'Low', 'Close', 'Volume'], axis = 1)"
      ],
      "metadata": {
        "id": "kr1PvqJ7z-q8"
      },
      "execution_count": 2,
      "outputs": []
    },
    {
      "cell_type": "markdown",
      "source": [
        "feature scaling"
      ],
      "metadata": {
        "id": "K4qlINSo8_Jw"
      }
    },
    {
      "cell_type": "code",
      "source": [
        "from sklearn.preprocessing import MinMaxScaler\n",
        "sc = MinMaxScaler(feature_range=(0,1))\n",
        "training_set_scaled = sc.fit_transform(training_set)\n",
        "training_set_scaled"
      ],
      "metadata": {
        "colab": {
          "base_uri": "https://localhost:8080/"
        },
        "id": "mUSlY2kI0BBA",
        "outputId": "27deb765-5f12-47be-a638-15f690ad2115"
      },
      "execution_count": 3,
      "outputs": [
        {
          "output_type": "execute_result",
          "data": {
            "text/plain": [
              "array([[3.30294890e-04],\n",
              "       [7.42148227e-04],\n",
              "       [4.71386886e-03],\n",
              "       ...,\n",
              "       [7.92197108e-01],\n",
              "       [8.18777193e-01],\n",
              "       [8.19874096e-01]])"
            ]
          },
          "metadata": {},
          "execution_count": 3
        }
      ]
    },
    {
      "cell_type": "markdown",
      "source": [
        "creating with 60 timestamps and 1 output"
      ],
      "metadata": {
        "id": "9OdRr5z69CLJ"
      }
    },
    {
      "cell_type": "code",
      "source": [
        "X_train = []\n",
        "y_train = []\n",
        "for i in range(60, training_set_scaled.shape[0]):\n",
        "    X_train.append(training_set_scaled[i-60:i])\n",
        "    y_train.append(training_set_scaled[i,0])\n",
        "    \n",
        "X_train,y_train = np.array(X_train),np.array(y_train)"
      ],
      "metadata": {
        "id": "rnAasKCH0Cmm"
      },
      "execution_count": 4,
      "outputs": []
    },
    {
      "cell_type": "code",
      "source": [
        "X_train.shape"
      ],
      "metadata": {
        "colab": {
          "base_uri": "https://localhost:8080/"
        },
        "id": "VWBY84z9-62B",
        "outputId": "daf47b37-38b0-499f-b33d-bd381c97e231"
      },
      "execution_count": 5,
      "outputs": [
        {
          "output_type": "execute_result",
          "data": {
            "text/plain": [
              "(3557, 60, 1)"
            ]
          },
          "metadata": {},
          "execution_count": 5
        }
      ]
    },
    {
      "cell_type": "markdown",
      "source": [
        "#building the RNN"
      ],
      "metadata": {
        "id": "A7G8cUzm9FoK"
      }
    },
    {
      "cell_type": "markdown",
      "source": [
        "importing the keras libraries and packages"
      ],
      "metadata": {
        "id": "wpj4ye-R9Gh4"
      }
    },
    {
      "cell_type": "code",
      "source": [
        "from keras.models import Sequential\n",
        "from keras.layers import Dense\n",
        "from keras.layers import LSTM\n",
        "from keras.layers import Dropout"
      ],
      "metadata": {
        "id": "9uIElD8m0EpM"
      },
      "execution_count": 6,
      "outputs": []
    },
    {
      "cell_type": "markdown",
      "source": [
        "initialising the RNN "
      ],
      "metadata": {
        "id": "gItf0DF-9KCr"
      }
    },
    {
      "cell_type": "code",
      "source": [
        "regressor = Sequential()"
      ],
      "metadata": {
        "id": "Wtz7eElF0HjP"
      },
      "execution_count": 7,
      "outputs": []
    },
    {
      "cell_type": "markdown",
      "source": [
        "adding the first LSTM layer and dropout regularization"
      ],
      "metadata": {
        "id": "Vy-LDWI29Mz5"
      }
    },
    {
      "cell_type": "code",
      "source": [
        "regressor.add(LSTM(units = 50,activation=\"relu\", return_sequences = True, input_shape=(X_train.shape[1], 1)))\n",
        "regressor.add(Dropout(0.2))\n"
      ],
      "metadata": {
        "id": "8hQG0z_S0KME"
      },
      "execution_count": 8,
      "outputs": []
    },
    {
      "cell_type": "code",
      "source": [
        "#adding second LSTM layer with dropout regularization\n",
        "\n",
        "regressor.add(LSTM(units=60, activation=\"relu\", return_sequences = True))\n",
        "regressor.add(Dropout(0.2))\n",
        "\n",
        "#adding the third LSTM layer and dropout regularization\n",
        "\n",
        "regressor.add(LSTM(units=80, activation=\"relu\", return_sequences = True))\n",
        "regressor.add(Dropout(0.2))\n",
        "\n",
        "#adding the fourth LSTM layer and dropout regularization\n",
        "\n",
        "regressor.add(LSTM(units=120, activation=\"relu\", return_sequences = False))\n",
        "regressor.add(Dropout(0.2))"
      ],
      "metadata": {
        "id": "1_YxqT1_0P4b"
      },
      "execution_count": 9,
      "outputs": []
    },
    {
      "cell_type": "markdown",
      "source": [
        "adding the output layer"
      ],
      "metadata": {
        "id": "bF0vytZc9STD"
      }
    },
    {
      "cell_type": "code",
      "source": [
        "regressor.add(Dense(units=1))"
      ],
      "metadata": {
        "id": "XD0v2okg0Viq"
      },
      "execution_count": 10,
      "outputs": []
    },
    {
      "cell_type": "code",
      "source": [
        "regressor.summary()"
      ],
      "metadata": {
        "colab": {
          "base_uri": "https://localhost:8080/"
        },
        "id": "tSxJaW1h_iIt",
        "outputId": "58a6ab26-75a0-4c8a-d348-cb92a2925723"
      },
      "execution_count": 11,
      "outputs": [
        {
          "output_type": "stream",
          "name": "stdout",
          "text": [
            "Model: \"sequential\"\n",
            "_________________________________________________________________\n",
            " Layer (type)                Output Shape              Param #   \n",
            "=================================================================\n",
            " lstm (LSTM)                 (None, 60, 50)            10400     \n",
            "                                                                 \n",
            " dropout (Dropout)           (None, 60, 50)            0         \n",
            "                                                                 \n",
            " lstm_1 (LSTM)               (None, 60, 60)            26640     \n",
            "                                                                 \n",
            " dropout_1 (Dropout)         (None, 60, 60)            0         \n",
            "                                                                 \n",
            " lstm_2 (LSTM)               (None, 60, 80)            45120     \n",
            "                                                                 \n",
            " dropout_2 (Dropout)         (None, 60, 80)            0         \n",
            "                                                                 \n",
            " lstm_3 (LSTM)               (None, 120)               96480     \n",
            "                                                                 \n",
            " dropout_3 (Dropout)         (None, 120)               0         \n",
            "                                                                 \n",
            " dense (Dense)               (None, 1)                 121       \n",
            "                                                                 \n",
            "=================================================================\n",
            "Total params: 178,761\n",
            "Trainable params: 178,761\n",
            "Non-trainable params: 0\n",
            "_________________________________________________________________\n"
          ]
        }
      ]
    },
    {
      "cell_type": "markdown",
      "source": [
        "compiling the RNN"
      ],
      "metadata": {
        "id": "_--C9GOr9Vc4"
      }
    },
    {
      "cell_type": "code",
      "source": [
        "regressor.compile(optimizer = \"adam\", loss=\"mean_squared_error\", metrics=[tf.keras.metrics.Accuracy()])\n"
      ],
      "metadata": {
        "id": "LE4IAkk70X8H"
      },
      "execution_count": 12,
      "outputs": []
    },
    {
      "cell_type": "markdown",
      "source": [
        "fitting the RNN to the training set"
      ],
      "metadata": {
        "id": "LX_lWOCQ9X-4"
      }
    },
    {
      "cell_type": "code",
      "source": [
        "regressor.fit(X_train, y_train, epochs=100, batch_size=32)"
      ],
      "metadata": {
        "colab": {
          "base_uri": "https://localhost:8080/"
        },
        "id": "QmdDCIH40daD",
        "outputId": "95e25fb4-91e6-4430-d122-e2f7468fce8e"
      },
      "execution_count": 13,
      "outputs": [
        {
          "output_type": "stream",
          "name": "stdout",
          "text": [
            "Epoch 1/100\n",
            "112/112 [==============================] - 22s 154ms/step - loss: 0.0148 - accuracy: 0.0000e+00\n",
            "Epoch 2/100\n",
            "112/112 [==============================] - 17s 154ms/step - loss: 0.0024 - accuracy: 0.0000e+00\n",
            "Epoch 3/100\n",
            "112/112 [==============================] - 17s 152ms/step - loss: 0.0018 - accuracy: 0.0000e+00\n",
            "Epoch 4/100\n",
            "112/112 [==============================] - 19s 169ms/step - loss: 0.0018 - accuracy: 0.0000e+00\n",
            "Epoch 5/100\n",
            "112/112 [==============================] - 17s 153ms/step - loss: 0.0016 - accuracy: 0.0000e+00\n",
            "Epoch 6/100\n",
            "112/112 [==============================] - 17s 153ms/step - loss: 0.0016 - accuracy: 0.0000e+00\n",
            "Epoch 7/100\n",
            "112/112 [==============================] - 17s 152ms/step - loss: 0.0015 - accuracy: 0.0000e+00\n",
            "Epoch 8/100\n",
            "112/112 [==============================] - 17s 153ms/step - loss: 0.0017 - accuracy: 0.0000e+00\n",
            "Epoch 9/100\n",
            "112/112 [==============================] - 17s 153ms/step - loss: 0.0016 - accuracy: 0.0000e+00\n",
            "Epoch 10/100\n",
            "112/112 [==============================] - 17s 153ms/step - loss: 0.0014 - accuracy: 0.0000e+00\n",
            "Epoch 11/100\n",
            "112/112 [==============================] - 17s 152ms/step - loss: 0.0013 - accuracy: 0.0000e+00\n",
            "Epoch 12/100\n",
            "112/112 [==============================] - 17s 154ms/step - loss: 0.0013 - accuracy: 0.0000e+00\n",
            "Epoch 13/100\n",
            "112/112 [==============================] - 17s 154ms/step - loss: 0.0012 - accuracy: 0.0000e+00\n",
            "Epoch 14/100\n",
            "112/112 [==============================] - 17s 155ms/step - loss: 0.0016 - accuracy: 0.0000e+00\n",
            "Epoch 15/100\n",
            "112/112 [==============================] - 17s 154ms/step - loss: 0.0011 - accuracy: 0.0000e+00\n",
            "Epoch 16/100\n",
            "112/112 [==============================] - 17s 154ms/step - loss: 0.0010 - accuracy: 0.0000e+00\n",
            "Epoch 17/100\n",
            "112/112 [==============================] - 17s 154ms/step - loss: 0.0011 - accuracy: 0.0000e+00\n",
            "Epoch 18/100\n",
            "112/112 [==============================] - 17s 154ms/step - loss: 9.9214e-04 - accuracy: 0.0000e+00\n",
            "Epoch 19/100\n",
            "112/112 [==============================] - 17s 153ms/step - loss: 9.9493e-04 - accuracy: 0.0000e+00\n",
            "Epoch 20/100\n",
            "112/112 [==============================] - 17s 153ms/step - loss: 9.6788e-04 - accuracy: 0.0000e+00\n",
            "Epoch 21/100\n",
            "112/112 [==============================] - 17s 152ms/step - loss: 9.4515e-04 - accuracy: 0.0000e+00\n",
            "Epoch 22/100\n",
            "112/112 [==============================] - 17s 152ms/step - loss: 9.2713e-04 - accuracy: 0.0000e+00\n",
            "Epoch 23/100\n",
            "112/112 [==============================] - 17s 152ms/step - loss: 8.6450e-04 - accuracy: 0.0000e+00\n",
            "Epoch 24/100\n",
            "112/112 [==============================] - 17s 153ms/step - loss: 0.0010 - accuracy: 0.0000e+00\n",
            "Epoch 25/100\n",
            "112/112 [==============================] - 17s 154ms/step - loss: 8.6165e-04 - accuracy: 0.0000e+00\n",
            "Epoch 26/100\n",
            "112/112 [==============================] - 17s 155ms/step - loss: 8.9812e-04 - accuracy: 0.0000e+00\n",
            "Epoch 27/100\n",
            "112/112 [==============================] - 17s 152ms/step - loss: 8.1030e-04 - accuracy: 0.0000e+00\n",
            "Epoch 28/100\n",
            "112/112 [==============================] - 17s 154ms/step - loss: 8.9642e-04 - accuracy: 0.0000e+00\n",
            "Epoch 29/100\n",
            "112/112 [==============================] - 17s 153ms/step - loss: 8.1510e-04 - accuracy: 0.0000e+00\n",
            "Epoch 30/100\n",
            "112/112 [==============================] - 17s 152ms/step - loss: 9.0932e-04 - accuracy: 0.0000e+00\n",
            "Epoch 31/100\n",
            "112/112 [==============================] - 17s 152ms/step - loss: 8.8385e-04 - accuracy: 2.8114e-04\n",
            "Epoch 32/100\n",
            "112/112 [==============================] - 17s 153ms/step - loss: 7.4711e-04 - accuracy: 0.0000e+00\n",
            "Epoch 33/100\n",
            "112/112 [==============================] - 17s 153ms/step - loss: 8.5137e-04 - accuracy: 0.0000e+00\n",
            "Epoch 34/100\n",
            "112/112 [==============================] - 17s 152ms/step - loss: 8.0339e-04 - accuracy: 0.0000e+00\n",
            "Epoch 35/100\n",
            "112/112 [==============================] - 17s 152ms/step - loss: 7.1099e-04 - accuracy: 0.0000e+00\n",
            "Epoch 36/100\n",
            "112/112 [==============================] - 17s 153ms/step - loss: 8.0396e-04 - accuracy: 0.0000e+00\n",
            "Epoch 37/100\n",
            "112/112 [==============================] - 17s 154ms/step - loss: 7.9066e-04 - accuracy: 0.0000e+00\n",
            "Epoch 38/100\n",
            "112/112 [==============================] - 17s 153ms/step - loss: 7.4963e-04 - accuracy: 0.0000e+00\n",
            "Epoch 39/100\n",
            "112/112 [==============================] - 17s 152ms/step - loss: 7.5974e-04 - accuracy: 0.0000e+00\n",
            "Epoch 40/100\n",
            "112/112 [==============================] - 17s 154ms/step - loss: 7.3544e-04 - accuracy: 0.0000e+00\n",
            "Epoch 41/100\n",
            "112/112 [==============================] - 17s 154ms/step - loss: 7.8900e-04 - accuracy: 0.0000e+00\n",
            "Epoch 42/100\n",
            "112/112 [==============================] - 17s 154ms/step - loss: 7.6057e-04 - accuracy: 0.0000e+00\n",
            "Epoch 43/100\n",
            "112/112 [==============================] - 17s 155ms/step - loss: 7.9959e-04 - accuracy: 0.0000e+00\n",
            "Epoch 44/100\n",
            "112/112 [==============================] - 17s 155ms/step - loss: 7.3256e-04 - accuracy: 0.0000e+00\n",
            "Epoch 45/100\n",
            "112/112 [==============================] - 17s 154ms/step - loss: 7.7318e-04 - accuracy: 0.0000e+00\n",
            "Epoch 46/100\n",
            "112/112 [==============================] - 17s 153ms/step - loss: 7.2334e-04 - accuracy: 0.0000e+00\n",
            "Epoch 47/100\n",
            "112/112 [==============================] - 17s 153ms/step - loss: 7.4495e-04 - accuracy: 0.0000e+00\n",
            "Epoch 48/100\n",
            "112/112 [==============================] - 17s 153ms/step - loss: 6.8470e-04 - accuracy: 0.0000e+00\n",
            "Epoch 49/100\n",
            "112/112 [==============================] - 17s 154ms/step - loss: 6.9182e-04 - accuracy: 0.0000e+00\n",
            "Epoch 50/100\n",
            "112/112 [==============================] - 17s 153ms/step - loss: 7.2061e-04 - accuracy: 0.0000e+00\n",
            "Epoch 51/100\n",
            "112/112 [==============================] - 17s 153ms/step - loss: 7.8647e-04 - accuracy: 0.0000e+00\n",
            "Epoch 52/100\n",
            "112/112 [==============================] - 17s 153ms/step - loss: 7.3015e-04 - accuracy: 0.0000e+00\n",
            "Epoch 53/100\n",
            "112/112 [==============================] - 17s 152ms/step - loss: 7.1738e-04 - accuracy: 0.0000e+00\n",
            "Epoch 54/100\n",
            "112/112 [==============================] - 17s 154ms/step - loss: 6.5320e-04 - accuracy: 0.0000e+00\n",
            "Epoch 55/100\n",
            "112/112 [==============================] - 17s 153ms/step - loss: 7.6802e-04 - accuracy: 0.0000e+00\n",
            "Epoch 56/100\n",
            "112/112 [==============================] - 17s 153ms/step - loss: 7.0605e-04 - accuracy: 0.0000e+00\n",
            "Epoch 57/100\n",
            "112/112 [==============================] - 17s 154ms/step - loss: 6.3263e-04 - accuracy: 0.0000e+00\n",
            "Epoch 58/100\n",
            "112/112 [==============================] - 17s 153ms/step - loss: 6.9019e-04 - accuracy: 0.0000e+00\n",
            "Epoch 59/100\n",
            "112/112 [==============================] - 17s 152ms/step - loss: 5.7734e-04 - accuracy: 0.0000e+00\n",
            "Epoch 60/100\n",
            "112/112 [==============================] - 17s 152ms/step - loss: 6.5522e-04 - accuracy: 0.0000e+00\n",
            "Epoch 61/100\n",
            "112/112 [==============================] - 17s 153ms/step - loss: 6.2118e-04 - accuracy: 0.0000e+00\n",
            "Epoch 62/100\n",
            "112/112 [==============================] - 17s 152ms/step - loss: 7.0646e-04 - accuracy: 0.0000e+00\n",
            "Epoch 63/100\n",
            "112/112 [==============================] - 17s 153ms/step - loss: 6.4470e-04 - accuracy: 0.0000e+00\n",
            "Epoch 64/100\n",
            "112/112 [==============================] - 17s 153ms/step - loss: 6.2968e-04 - accuracy: 0.0000e+00\n",
            "Epoch 65/100\n",
            "112/112 [==============================] - 17s 153ms/step - loss: 5.9860e-04 - accuracy: 0.0000e+00\n",
            "Epoch 66/100\n",
            "112/112 [==============================] - 17s 153ms/step - loss: 6.9421e-04 - accuracy: 0.0000e+00\n",
            "Epoch 67/100\n",
            "112/112 [==============================] - 17s 153ms/step - loss: 6.4761e-04 - accuracy: 0.0000e+00\n",
            "Epoch 68/100\n",
            "112/112 [==============================] - 17s 154ms/step - loss: 7.1544e-04 - accuracy: 0.0000e+00\n",
            "Epoch 69/100\n",
            "112/112 [==============================] - 17s 153ms/step - loss: 6.5914e-04 - accuracy: 0.0000e+00\n",
            "Epoch 70/100\n",
            "112/112 [==============================] - 17s 153ms/step - loss: 6.4979e-04 - accuracy: 0.0000e+00\n",
            "Epoch 71/100\n",
            "112/112 [==============================] - 17s 153ms/step - loss: 6.2038e-04 - accuracy: 0.0000e+00\n",
            "Epoch 72/100\n",
            "112/112 [==============================] - 17s 152ms/step - loss: 6.1965e-04 - accuracy: 0.0000e+00\n",
            "Epoch 73/100\n",
            "112/112 [==============================] - 17s 152ms/step - loss: 7.1854e-04 - accuracy: 0.0000e+00\n",
            "Epoch 74/100\n",
            "112/112 [==============================] - 17s 153ms/step - loss: 5.8961e-04 - accuracy: 0.0000e+00\n",
            "Epoch 75/100\n",
            "112/112 [==============================] - 17s 153ms/step - loss: 6.4337e-04 - accuracy: 0.0000e+00\n",
            "Epoch 76/100\n",
            "112/112 [==============================] - 17s 152ms/step - loss: 6.2473e-04 - accuracy: 0.0000e+00\n",
            "Epoch 77/100\n",
            "112/112 [==============================] - 17s 152ms/step - loss: 5.8847e-04 - accuracy: 0.0000e+00\n",
            "Epoch 78/100\n",
            "112/112 [==============================] - 17s 152ms/step - loss: 6.0952e-04 - accuracy: 0.0000e+00\n",
            "Epoch 79/100\n",
            "112/112 [==============================] - 17s 152ms/step - loss: 5.9465e-04 - accuracy: 0.0000e+00\n",
            "Epoch 80/100\n",
            "112/112 [==============================] - 17s 152ms/step - loss: 6.8871e-04 - accuracy: 0.0000e+00\n",
            "Epoch 81/100\n",
            "112/112 [==============================] - 17s 154ms/step - loss: 5.7923e-04 - accuracy: 0.0000e+00\n",
            "Epoch 82/100\n",
            "112/112 [==============================] - 17s 152ms/step - loss: 5.9591e-04 - accuracy: 0.0000e+00\n",
            "Epoch 83/100\n",
            "112/112 [==============================] - 17s 154ms/step - loss: 6.0676e-04 - accuracy: 0.0000e+00\n",
            "Epoch 84/100\n",
            "112/112 [==============================] - 17s 152ms/step - loss: 6.4309e-04 - accuracy: 0.0000e+00\n",
            "Epoch 85/100\n",
            "112/112 [==============================] - 17s 153ms/step - loss: 5.6872e-04 - accuracy: 0.0000e+00\n",
            "Epoch 86/100\n",
            "112/112 [==============================] - 17s 153ms/step - loss: 6.1974e-04 - accuracy: 0.0000e+00\n",
            "Epoch 87/100\n",
            "112/112 [==============================] - 17s 153ms/step - loss: 6.2576e-04 - accuracy: 0.0000e+00\n",
            "Epoch 88/100\n",
            "112/112 [==============================] - 17s 154ms/step - loss: 6.0202e-04 - accuracy: 0.0000e+00\n",
            "Epoch 89/100\n",
            "112/112 [==============================] - 17s 154ms/step - loss: 6.3856e-04 - accuracy: 0.0000e+00\n",
            "Epoch 90/100\n",
            "112/112 [==============================] - 17s 152ms/step - loss: 6.1329e-04 - accuracy: 0.0000e+00\n",
            "Epoch 91/100\n",
            "112/112 [==============================] - 17s 153ms/step - loss: 5.9793e-04 - accuracy: 0.0000e+00\n",
            "Epoch 92/100\n",
            "112/112 [==============================] - 17s 152ms/step - loss: 6.4186e-04 - accuracy: 0.0000e+00\n",
            "Epoch 93/100\n",
            "112/112 [==============================] - 17s 152ms/step - loss: 5.6363e-04 - accuracy: 0.0000e+00\n",
            "Epoch 94/100\n",
            "112/112 [==============================] - 17s 152ms/step - loss: 5.3254e-04 - accuracy: 0.0000e+00\n",
            "Epoch 95/100\n",
            "112/112 [==============================] - 17s 152ms/step - loss: 5.7058e-04 - accuracy: 0.0000e+00\n",
            "Epoch 96/100\n",
            "112/112 [==============================] - 17s 153ms/step - loss: 6.2393e-04 - accuracy: 0.0000e+00\n",
            "Epoch 97/100\n",
            "112/112 [==============================] - 17s 151ms/step - loss: 6.2407e-04 - accuracy: 0.0000e+00\n",
            "Epoch 98/100\n",
            "112/112 [==============================] - 17s 152ms/step - loss: 5.7684e-04 - accuracy: 0.0000e+00\n",
            "Epoch 99/100\n",
            "112/112 [==============================] - 17s 153ms/step - loss: 5.5951e-04 - accuracy: 0.0000e+00\n",
            "Epoch 100/100\n",
            "112/112 [==============================] - 17s 153ms/step - loss: 5.9879e-04 - accuracy: 0.0000e+00\n"
          ]
        },
        {
          "output_type": "execute_result",
          "data": {
            "text/plain": [
              "<keras.callbacks.History at 0x7f571d54e750>"
            ]
          },
          "metadata": {},
          "execution_count": 13
        }
      ]
    },
    {
      "cell_type": "markdown",
      "source": [
        "getting the data for testing"
      ],
      "metadata": {
        "id": "oRGqXggi9epS"
      }
    },
    {
      "cell_type": "code",
      "source": [
        "past_60_days = training_set.tail(60)\n",
        "\n",
        "df = past_60_days.append(data_test, ignore_index = True)\n",
        "df.head()"
      ],
      "metadata": {
        "colab": {
          "base_uri": "https://localhost:8080/",
          "height": 206
        },
        "id": "HOe9r4ns72Gp",
        "outputId": "6f98eef8-6b7c-4822-f740-1cdc1475b7d0"
      },
      "execution_count": 14,
      "outputs": [
        {
          "output_type": "execute_result",
          "data": {
            "text/plain": [
              "          Open\n",
              "0  1195.329956\n",
              "1  1167.500000\n",
              "2  1150.109985\n",
              "3  1146.150024\n",
              "4  1131.079956"
            ],
            "text/html": [
              "\n",
              "  <div id=\"df-90359bee-8292-42b3-9bfe-3d237d76223b\">\n",
              "    <div class=\"colab-df-container\">\n",
              "      <div>\n",
              "<style scoped>\n",
              "    .dataframe tbody tr th:only-of-type {\n",
              "        vertical-align: middle;\n",
              "    }\n",
              "\n",
              "    .dataframe tbody tr th {\n",
              "        vertical-align: top;\n",
              "    }\n",
              "\n",
              "    .dataframe thead th {\n",
              "        text-align: right;\n",
              "    }\n",
              "</style>\n",
              "<table border=\"1\" class=\"dataframe\">\n",
              "  <thead>\n",
              "    <tr style=\"text-align: right;\">\n",
              "      <th></th>\n",
              "      <th>Open</th>\n",
              "    </tr>\n",
              "  </thead>\n",
              "  <tbody>\n",
              "    <tr>\n",
              "      <th>0</th>\n",
              "      <td>1195.329956</td>\n",
              "    </tr>\n",
              "    <tr>\n",
              "      <th>1</th>\n",
              "      <td>1167.500000</td>\n",
              "    </tr>\n",
              "    <tr>\n",
              "      <th>2</th>\n",
              "      <td>1150.109985</td>\n",
              "    </tr>\n",
              "    <tr>\n",
              "      <th>3</th>\n",
              "      <td>1146.150024</td>\n",
              "    </tr>\n",
              "    <tr>\n",
              "      <th>4</th>\n",
              "      <td>1131.079956</td>\n",
              "    </tr>\n",
              "  </tbody>\n",
              "</table>\n",
              "</div>\n",
              "      <button class=\"colab-df-convert\" onclick=\"convertToInteractive('df-90359bee-8292-42b3-9bfe-3d237d76223b')\"\n",
              "              title=\"Convert this dataframe to an interactive table.\"\n",
              "              style=\"display:none;\">\n",
              "        \n",
              "  <svg xmlns=\"http://www.w3.org/2000/svg\" height=\"24px\"viewBox=\"0 0 24 24\"\n",
              "       width=\"24px\">\n",
              "    <path d=\"M0 0h24v24H0V0z\" fill=\"none\"/>\n",
              "    <path d=\"M18.56 5.44l.94 2.06.94-2.06 2.06-.94-2.06-.94-.94-2.06-.94 2.06-2.06.94zm-11 1L8.5 8.5l.94-2.06 2.06-.94-2.06-.94L8.5 2.5l-.94 2.06-2.06.94zm10 10l.94 2.06.94-2.06 2.06-.94-2.06-.94-.94-2.06-.94 2.06-2.06.94z\"/><path d=\"M17.41 7.96l-1.37-1.37c-.4-.4-.92-.59-1.43-.59-.52 0-1.04.2-1.43.59L10.3 9.45l-7.72 7.72c-.78.78-.78 2.05 0 2.83L4 21.41c.39.39.9.59 1.41.59.51 0 1.02-.2 1.41-.59l7.78-7.78 2.81-2.81c.8-.78.8-2.07 0-2.86zM5.41 20L4 18.59l7.72-7.72 1.47 1.35L5.41 20z\"/>\n",
              "  </svg>\n",
              "      </button>\n",
              "      \n",
              "  <style>\n",
              "    .colab-df-container {\n",
              "      display:flex;\n",
              "      flex-wrap:wrap;\n",
              "      gap: 12px;\n",
              "    }\n",
              "\n",
              "    .colab-df-convert {\n",
              "      background-color: #E8F0FE;\n",
              "      border: none;\n",
              "      border-radius: 50%;\n",
              "      cursor: pointer;\n",
              "      display: none;\n",
              "      fill: #1967D2;\n",
              "      height: 32px;\n",
              "      padding: 0 0 0 0;\n",
              "      width: 32px;\n",
              "    }\n",
              "\n",
              "    .colab-df-convert:hover {\n",
              "      background-color: #E2EBFA;\n",
              "      box-shadow: 0px 1px 2px rgba(60, 64, 67, 0.3), 0px 1px 3px 1px rgba(60, 64, 67, 0.15);\n",
              "      fill: #174EA6;\n",
              "    }\n",
              "\n",
              "    [theme=dark] .colab-df-convert {\n",
              "      background-color: #3B4455;\n",
              "      fill: #D2E3FC;\n",
              "    }\n",
              "\n",
              "    [theme=dark] .colab-df-convert:hover {\n",
              "      background-color: #434B5C;\n",
              "      box-shadow: 0px 1px 3px 1px rgba(0, 0, 0, 0.15);\n",
              "      filter: drop-shadow(0px 1px 2px rgba(0, 0, 0, 0.3));\n",
              "      fill: #FFFFFF;\n",
              "    }\n",
              "  </style>\n",
              "\n",
              "      <script>\n",
              "        const buttonEl =\n",
              "          document.querySelector('#df-90359bee-8292-42b3-9bfe-3d237d76223b button.colab-df-convert');\n",
              "        buttonEl.style.display =\n",
              "          google.colab.kernel.accessAllowed ? 'block' : 'none';\n",
              "\n",
              "        async function convertToInteractive(key) {\n",
              "          const element = document.querySelector('#df-90359bee-8292-42b3-9bfe-3d237d76223b');\n",
              "          const dataTable =\n",
              "            await google.colab.kernel.invokeFunction('convertToInteractive',\n",
              "                                                     [key], {});\n",
              "          if (!dataTable) return;\n",
              "\n",
              "          const docLinkHtml = 'Like what you see? Visit the ' +\n",
              "            '<a target=\"_blank\" href=https://colab.research.google.com/notebooks/data_table.ipynb>data table notebook</a>'\n",
              "            + ' to learn more about interactive tables.';\n",
              "          element.innerHTML = '';\n",
              "          dataTable['output_type'] = 'display_data';\n",
              "          await google.colab.output.renderOutput(dataTable, element);\n",
              "          const docLink = document.createElement('div');\n",
              "          docLink.innerHTML = docLinkHtml;\n",
              "          element.appendChild(docLink);\n",
              "        }\n",
              "      </script>\n",
              "    </div>\n",
              "  </div>\n",
              "  "
            ]
          },
          "metadata": {},
          "execution_count": 14
        }
      ]
    },
    {
      "cell_type": "code",
      "source": [
        "inputs = sc.transform(df)\n",
        "inputs"
      ],
      "metadata": {
        "colab": {
          "base_uri": "https://localhost:8080/"
        },
        "id": "fUHr7UE98MAI",
        "outputId": "e8465c70-2f67-4fd8-dc97-de8aff5cb49f"
      },
      "execution_count": 15,
      "outputs": [
        {
          "output_type": "execute_result",
          "data": {
            "text/plain": [
              "array([[0.93805611],\n",
              "       [0.91527437],\n",
              "       [0.90103881],\n",
              "       [0.89779717],\n",
              "       [0.88546073],\n",
              "       [0.83786702],\n",
              "       [0.86656736],\n",
              "       [0.86731232],\n",
              "       [0.86377589],\n",
              "       [0.88167878],\n",
              "       [0.87789683],\n",
              "       [0.85459117],\n",
              "       [0.8625235 ],\n",
              "       [0.84437499],\n",
              "       [0.8634976 ],\n",
              "       [0.8369257 ],\n",
              "       [0.80847098],\n",
              "       [0.84566835],\n",
              "       [0.78508343],\n",
              "       [0.82711883],\n",
              "       [0.84020832],\n",
              "       [0.83851375],\n",
              "       [0.82318129],\n",
              "       [0.81047652],\n",
              "       [0.83464176],\n",
              "       [0.85296215],\n",
              "       [0.8387266 ],\n",
              "       [0.82841219],\n",
              "       [0.81359546],\n",
              "       [0.81908827],\n",
              "       [0.81475781],\n",
              "       [0.82679137],\n",
              "       [0.82498218],\n",
              "       [0.77815801],\n",
              "       [0.80824994],\n",
              "       [0.80271616],\n",
              "       [0.8095515 ],\n",
              "       [0.81172082],\n",
              "       [0.8180732 ],\n",
              "       [0.84043745],\n",
              "       [0.85107113],\n",
              "       [0.87896106],\n",
              "       [0.86257257],\n",
              "       [0.80620343],\n",
              "       [0.82728251],\n",
              "       [0.80685016],\n",
              "       [0.82440101],\n",
              "       [0.83382316],\n",
              "       [0.83388042],\n",
              "       [0.81907188],\n",
              "       [0.8088639 ],\n",
              "       [0.79951539],\n",
              "       [0.80598239],\n",
              "       [0.79299933],\n",
              "       [0.79068266],\n",
              "       [0.75679244],\n",
              "       [0.76916155],\n",
              "       [0.79219711],\n",
              "       [0.81877719],\n",
              "       [0.8198741 ],\n",
              "       [0.7917223 ],\n",
              "       [0.81172082],\n",
              "       [0.80483632],\n",
              "       [0.83668828],\n",
              "       [0.84046203],\n",
              "       [0.84499714],\n",
              "       [0.83354486],\n",
              "       [0.82987753],\n",
              "       [0.816567  ],\n",
              "       [0.81922747],\n",
              "       [0.84364642],\n",
              "       [0.84321254],\n",
              "       [0.86001852],\n",
              "       [0.85019526],\n",
              "       [0.8414771 ],\n",
              "       [0.84076491],\n",
              "       [0.84773945],\n",
              "       [0.84373646],\n",
              "       [0.83765428],\n",
              "       [0.8341752 ],\n",
              "       [0.86247434],\n",
              "       [0.87016925],\n",
              "       [0.87038209],\n",
              "       [0.88035265],\n",
              "       [0.89241068],\n",
              "       [0.86342395],\n",
              "       [0.84937666],\n",
              "       [0.85752174],\n",
              "       [0.86558508],\n",
              "       [0.88047546],\n",
              "       [0.87479439],\n",
              "       [0.88464213],\n",
              "       [0.86820457],\n",
              "       [0.87638243],\n",
              "       [0.86889218],\n",
              "       [0.86075529],\n",
              "       [0.87311621],\n",
              "       [0.8647255 ],\n",
              "       [0.86570779],\n",
              "       [0.8692688 ],\n",
              "       [0.88040181],\n",
              "       [0.89848477],\n",
              "       [0.90099794],\n",
              "       [0.91117315],\n",
              "       [0.90563118],\n",
              "       [0.88189982],\n",
              "       [0.89640548],\n",
              "       [0.92408257],\n",
              "       [0.94240705],\n",
              "       [0.9373849 ],\n",
              "       [0.93645987],\n",
              "       [0.92820837],\n",
              "       [0.93271889],\n",
              "       [0.93970971],\n",
              "       [0.95497672],\n",
              "       [0.96342468],\n",
              "       [0.93936596],\n",
              "       [0.94067571],\n",
              "       [0.93000926],\n",
              "       [0.91858157],\n",
              "       [0.92133207],\n",
              "       [0.92886319],\n",
              "       [0.93804792],\n",
              "       [0.94800219],\n",
              "       [0.9467415 ],\n",
              "       [0.95414992],\n",
              "       [0.94833784],\n",
              "       [0.93860462],\n",
              "       [0.94243573],\n",
              "       [0.94512068],\n",
              "       [0.95006509],\n",
              "       [0.95661393],\n",
              "       [0.96234416],\n",
              "       [0.96889301],\n",
              "       [0.97395203],\n",
              "       [0.97134063],\n",
              "       [0.98337408],\n",
              "       [0.99436799],\n",
              "       [0.99490011],\n",
              "       [0.99836279],\n",
              "       [1.00245582],\n",
              "       [0.92959996],\n",
              "       [0.93209674],\n",
              "       [0.91548721],\n",
              "       [0.92030881],\n",
              "       [0.91425931],\n",
              "       [0.92589165],\n",
              "       [0.91896629],\n",
              "       [0.90834081],\n",
              "       [0.9120736 ],\n",
              "       [0.89436716],\n",
              "       [0.89047879],\n",
              "       [0.87464699],\n",
              "       [0.91282675],\n",
              "       [0.91606839],\n",
              "       [0.89644645],\n",
              "       [0.89971268],\n",
              "       [0.89828831],\n",
              "       [0.89317203],\n",
              "       [0.89878765],\n",
              "       [0.8878511 ],\n",
              "       [0.88254655],\n",
              "       [0.87273968],\n",
              "       [0.86107456],\n",
              "       [0.83177665],\n",
              "       [0.81327619],\n",
              "       [0.82034895],\n",
              "       [0.81498705],\n",
              "       [0.81960399],\n",
              "       [0.8378998 ],\n",
              "       [0.8550905 ],\n",
              "       [0.84200921],\n",
              "       [0.84662616],\n",
              "       [0.8489019 ],\n",
              "       [0.84878728],\n",
              "       [0.86795076],\n",
              "       [0.86460269],\n",
              "       [0.87638243],\n",
              "       [0.86758243],\n",
              "       [0.87607136],\n",
              "       [0.87038209],\n",
              "       [0.84896735],\n",
              "       [0.84692084],\n",
              "       [0.84069127],\n",
              "       [0.85838131],\n",
              "       [0.86185219],\n",
              "       [0.87427047],\n",
              "       [0.87458973],\n",
              "       [0.88062285],\n",
              "       [0.8696781 ],\n",
              "       [0.88557535],\n",
              "       [0.8954232 ],\n",
              "       [0.89602895],\n",
              "       [0.89837835],\n",
              "       [0.89767436],\n",
              "       [0.9017428 ],\n",
              "       [0.89418709],\n",
              "       [0.89946706],\n",
              "       [0.88740082],\n",
              "       [0.89603715],\n",
              "       [0.88613205],\n",
              "       [0.89097812],\n",
              "       [0.96155834],\n",
              "       [0.97548282],\n",
              "       [0.96267982],\n",
              "       [0.96070695],\n",
              "       [0.95336409],\n",
              "       [0.9424848 ],\n",
              "       [0.91735366],\n",
              "       [0.91184446],\n",
              "       [0.90586041],\n",
              "       [0.92782355],\n",
              "       [0.94023363],\n",
              "       [0.9248602 ],\n",
              "       [0.91851601],\n",
              "       [0.92248633],\n",
              "       [0.91199995],\n",
              "       [0.9251386 ],\n",
              "       [0.93376663],\n",
              "       [0.93799066],\n",
              "       [0.93627161],\n",
              "       [0.93702466],\n",
              "       [0.92713595],\n",
              "       [0.90689186],\n",
              "       [0.92594082],\n",
              "       [0.91053461],\n",
              "       [0.92642377],\n",
              "       [0.94065113],\n",
              "       [0.9230757 ],\n",
              "       [0.92281369],\n",
              "       [0.93494547],\n",
              "       [0.9485343 ],\n",
              "       [0.94515346],\n",
              "       [0.93790882],\n",
              "       [0.94467051],\n",
              "       [0.96177118],\n",
              "       [0.96754229],\n",
              "       [0.96604428],\n",
              "       [0.96676465],\n",
              "       [0.96439887],\n",
              "       [0.96812356],\n",
              "       [0.96899123],\n",
              "       [0.96316277],\n",
              "       [0.97462324],\n",
              "       [0.95482932],\n",
              "       [0.97622768],\n",
              "       [0.97708725],\n",
              "       [0.95904516],\n",
              "       [0.95743253],\n",
              "       [0.93940683],\n",
              "       [0.92550693],\n",
              "       [0.93524016]])"
            ]
          },
          "metadata": {},
          "execution_count": 15
        }
      ]
    },
    {
      "cell_type": "code",
      "source": [
        "X_test = []\n",
        "y_test=[]\n",
        "\n",
        "for i in range(60, inputs.shape[0]):\n",
        "    X_test.append(inputs[i-60:i])\n",
        "    y_test.append(inputs[i, 0])"
      ],
      "metadata": {
        "id": "ivnwASGt8OW2"
      },
      "execution_count": 16,
      "outputs": []
    },
    {
      "cell_type": "code",
      "source": [
        "X_test, y_test = np.array(X_test), np.array(y_test)\n",
        "X_test.shape, y_test.shape"
      ],
      "metadata": {
        "colab": {
          "base_uri": "https://localhost:8080/"
        },
        "id": "2GDURn_28QeC",
        "outputId": "fd1be26e-464f-4a97-f88e-8c88886e438f"
      },
      "execution_count": 17,
      "outputs": [
        {
          "output_type": "execute_result",
          "data": {
            "text/plain": [
              "((192, 60, 1), (192,))"
            ]
          },
          "metadata": {},
          "execution_count": 17
        }
      ]
    },
    {
      "cell_type": "code",
      "source": [
        "predicted_stock_price = regressor.predict(X_test)"
      ],
      "metadata": {
        "id": "Fc6YjaiM8SZl"
      },
      "execution_count": 18,
      "outputs": []
    },
    {
      "cell_type": "markdown",
      "source": [
        "Inverse transform to scale it back"
      ],
      "metadata": {
        "id": "TT26MTFr9h1D"
      }
    },
    {
      "cell_type": "code",
      "source": [
        "# sc.scale_\n",
        "scale = 1/8.18605127e-04\n",
        "scale"
      ],
      "metadata": {
        "colab": {
          "base_uri": "https://localhost:8080/"
        },
        "id": "q-k1alhb8Y80",
        "outputId": "d8f217ef-e42e-4206-9171-16ca36cadea4"
      },
      "execution_count": 19,
      "outputs": [
        {
          "output_type": "execute_result",
          "data": {
            "text/plain": [
              "1221.5901990069017"
            ]
          },
          "metadata": {},
          "execution_count": 19
        }
      ]
    },
    {
      "cell_type": "code",
      "source": [
        "predicted_stock_price = predicted_stock_price*scale\n",
        "real_stock_price = y_test*scale"
      ],
      "metadata": {
        "id": "NIN3gpZk8a54"
      },
      "execution_count": 20,
      "outputs": []
    },
    {
      "cell_type": "markdown",
      "source": [
        "visualizing the results"
      ],
      "metadata": {
        "id": "67YN4wXi9kMc"
      }
    },
    {
      "cell_type": "code",
      "source": [
        "plt.figure(figsize=(14,5))\n",
        "plt.plot(real_stock_price, color=\"red\", label=\"Real Google Stock Price\")\n",
        "plt.plot(predicted_stock_price, color=\"blue\", label=\"Predicted Google Stock Price\")\n",
        "plt.title(\"Google Stock Price Prediction\")\n",
        "plt.xlabel(\"Time\")\n",
        "plt.ylabel(\"Google Stock Price\")\n",
        "plt.legend()\n",
        "plt.show()"
      ],
      "metadata": {
        "colab": {
          "base_uri": "https://localhost:8080/",
          "height": 350
        },
        "id": "5k1ttzEn8dhW",
        "outputId": "827fa39e-7252-496b-876d-5486e5586356"
      },
      "execution_count": 21,
      "outputs": [
        {
          "output_type": "display_data",
          "data": {
            "text/plain": [
              "<Figure size 1008x360 with 1 Axes>"
            ],
            "image/png": "[encoded data removed]"
          },
          "metadata": {
            "needs_background": "light"
          }
        }
      ]
    },
    {
      "cell_type": "markdown",
      "source": [
        "RMSE"
      ],
      "metadata": {
        "id": "JVO87iSl9m51"
      }
    },
    {
      "cell_type": "code",
      "source": [
        "import math\n",
        "from sklearn.metrics import mean_squared_error\n",
        "\n",
        "rmse = math.sqrt(mean_squared_error(real_stock_price, predicted_stock_price))\n",
        "\n",
        "print(rmse)"
      ],
      "metadata": {
        "colab": {
          "base_uri": "https://localhost:8080/"
        },
        "id": "qmkOnoZb8lL7",
        "outputId": "e537157b-a350-4a15-acb3-6d4efb3ebaf9"
      },
      "execution_count": 22,
      "outputs": [
        {
          "output_type": "stream",
          "name": "stdout",
          "text": [
            "61.81370575779104\n"
          ]
        }
      ]
    }
  ]
}